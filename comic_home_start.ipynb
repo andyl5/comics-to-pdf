{
 "cells": [
  {
   "cell_type": "code",
   "execution_count": 40,
   "metadata": {},
   "outputs": [],
   "source": [
    "from selenium import webdriver\n",
    "from selenium.webdriver.common.by import By\n",
    "from selenium.webdriver.support.select import Select\n",
    "from selenium.common.exceptions import NoSuchElementException\n",
    "import requests\n",
    "import os\n",
    "from PIL import Image\n",
    "import re\n",
    "import shutil\n",
    "from tenacity import retry, stop_after_attempt, wait_fixed, retry_if_result, RetryError\n",
    "import sys\n",
    "from datetime import datetime\n",
    "import logging"
   ]
  },
  {
   "cell_type": "code",
   "execution_count": 41,
   "metadata": {},
   "outputs": [],
   "source": [
    "# possible optimizations?\n",
    "# multithreading?\n",
    "# async functions to get the images from each issue"
   ]
  },
  {
   "cell_type": "code",
   "execution_count": 42,
   "metadata": {},
   "outputs": [],
   "source": [
    "logger = logging.getLogger(__name__)\n",
    "current_datetime = datetime.now().strftime('%Y_%m_%d_%H_%M_%S')\n",
    "logging.basicConfig(filename=\"logfile.log\", encoding='utf-8', \n",
    "                    level=logging.DEBUG, format='%(asctime)s - %(levelname)s - %(message)s')\n",
    "\n",
    "logging.getLogger('selenium').setLevel(logging.WARNING)\n",
    "logging.getLogger('selenium.webdriver').setLevel(logging.WARNING)\n",
    "logging.getLogger('selenium.webdriver.common').setLevel(logging.WARNING)\n",
    "logging.getLogger('requests').setLevel(logging.WARNING)\n",
    "logging.getLogger('urllib3').setLevel(logging.WARNING)\n",
    "logging.getLogger('PIL').setLevel(logging.WARNING)\n"
   ]
  },
  {
   "cell_type": "code",
   "execution_count": 43,
   "metadata": {},
   "outputs": [],
   "source": [
    "# Paste the URL of a comic series from:\n",
    "# https://readcomiconline.li/\n",
    "url = \"https://readcomiconline.li/Comic/Batman-Off-World\".rstrip(\"/\")\n",
    "logging.info(f\"URL: {url}\")\n",
    "parsed_url = url.split(\"/\")\n",
    "# comic series should instead be taken from the p tag on the page. for when the series page starts with captcha DONE\n",
    "# check if the page is a captcha DONE\n",
    "# fix the logging for retries DONT KNOW IF IT WORKS FOR SURE, WILL SEE WHEN CAPTCHA IS FOUND\n",
    "# name the log file (datetime.log) DONE\n",
    "# move log file into the series folder DONE\n"
   ]
  },
  {
   "cell_type": "code",
   "execution_count": 44,
   "metadata": {},
   "outputs": [],
   "source": [
    "def make_valid_filename(filename):\n",
    "    pattern = r'[<>:\"\\/|?*]'\n",
    "    # Use re.sub() to replace all occurrences of the special characters with an empty string\n",
    "    filename = re.sub(pattern, '', filename)\n",
    "    return filename"
   ]
  },
  {
   "cell_type": "code",
   "execution_count": 45,
   "metadata": {},
   "outputs": [],
   "source": [
    "# Checks if the loaded page is a captcha\n",
    "def is_captcha_page(driver):\n",
    "    try:\n",
    "        captcha_form = driver.find_element(By.ID, \"formVerify\")\n",
    "    except NoSuchElementException as e:\n",
    "        print(\"No captcha on this page\")\n",
    "        return False\n",
    "    else:\n",
    "        print(driver.current_url)\n",
    "        logging.warning(\"CAPTCHA found on this page\")\n",
    "        logging.warning(f\"CAPTCHA URL: {driver.current_url}\")\n",
    "        return True"
   ]
  },
  {
   "cell_type": "code",
   "execution_count": 46,
   "metadata": {},
   "outputs": [],
   "source": [
    "@retry(\n",
    "    retry=retry_if_result(lambda x: is_captcha_page(driver)),\n",
    "    stop=stop_after_attempt(20),\n",
    "    wait=wait_fixed(15),\n",
    ")\n",
    "# Gets the series name\n",
    "def get_series_title(driver):\n",
    "    try:\n",
    "        title_element = driver.find_element(By.CLASS_NAME, \"bigChar\")\n",
    "    except NoSuchElementException as e:\n",
    "        logging.error(\"Series title not found!\")\n",
    "    else:\n",
    "        series_title = title_element.text\n",
    "        series_title = make_valid_filename(series_title)\n",
    "        return series_title"
   ]
  },
  {
   "cell_type": "code",
   "execution_count": 47,
   "metadata": {},
   "outputs": [],
   "source": [
    "@retry(\n",
    "    retry=retry_if_result(lambda x: is_captcha_page(driver)),\n",
    "    stop=stop_after_attempt(20),\n",
    "    wait=wait_fixed(15),\n",
    ")\n",
    "# Gets all a elements/comic book issues from a series\n",
    "def get_anchor_elements(driver):\n",
    "    try:\n",
    "        table_element = driver.find_element(By.CLASS_NAME, \"listing\")\n",
    "    except NoSuchElementException as e:\n",
    "        logging.error(\"No comic book issues (volumes) found!\")\n",
    "    else:\n",
    "        anchor_elements = table_element.find_elements(By.TAG_NAME, \"a\")\n",
    "        return anchor_elements"
   ]
  },
  {
   "cell_type": "code",
   "execution_count": 48,
   "metadata": {},
   "outputs": [
    {
     "name": "stdout",
     "output_type": "stream",
     "text": [
      "No captcha on this page\n",
      "No captcha on this page\n"
     ]
    }
   ],
   "source": [
    "options = webdriver.FirefoxOptions()\n",
    "# options = options.add_argument(\"-headless\")\n",
    "options.add_argument(\"-headless\")\n",
    "driver = webdriver.Firefox(options=options)\n",
    "driver.get(url)\n",
    "\n",
    "# Get the series title\n",
    "try:\n",
    "    comic_series = get_series_title(driver)\n",
    "    logging.info(f\"Comic Series: '{comic_series}'\")\n",
    "except RetryError:\n",
    "    logging.error(\"CAPTCHA timeout! Time limit exceeded.\")\n",
    "    logging.critical(\"Program forcefully exited! Rerun the program again.\")\n",
    "    sys.exit()\n",
    "\n",
    "# Get all issues URLs in the series\n",
    "try:\n",
    "    anchor_elements = get_anchor_elements(driver)\n",
    "except RetryError:\n",
    "    logging.error(\"CAPTCHA timeout! Time limit exceeded.\")\n",
    "    logging.critical(\"Program forcefully exited! Rerun the program again.\")\n",
    "    sys.exit()\n",
    "else:\n",
    "    issues = [{elem.text: elem.get_attribute(\"href\")} for elem in anchor_elements]\n",
    "    issues.reverse()\n",
    "    logging.info(f\"Found {len(issues)} issues total.\")\n",
    "driver.quit()"
   ]
  },
  {
   "cell_type": "code",
   "execution_count": 49,
   "metadata": {},
   "outputs": [],
   "source": [
    "comic_series_folder = f\"{comic_series}\"\n",
    "try:\n",
    "    os.makedirs(comic_series_folder)\n",
    "    # logging.info(f\"Created {comic_series_folder}.\")\n",
    "    print(f\"Created {comic_series_folder}.\")\n",
    "    comic_series_path = os.path.join(comic_series_folder)\n",
    "except OSError as e:\n",
    "    comic_series_path = comic_series_folder\n",
    "    logging.warning(f\"{comic_series_folder} already exists.\")"
   ]
  },
  {
   "cell_type": "code",
   "execution_count": 50,
   "metadata": {},
   "outputs": [],
   "source": [
    "@retry(\n",
    "        stop=stop_after_attempt(10),\n",
    "      )\n",
    "def get_image_from_url(img_url):\n",
    "    return requests.get(img_url)"
   ]
  },
  {
   "cell_type": "code",
   "execution_count": 51,
   "metadata": {},
   "outputs": [],
   "source": [
    "@retry(\n",
    "    retry=retry_if_result(lambda x: is_captcha_page(driver)),\n",
    "    stop=stop_after_attempt(20),\n",
    "    wait=wait_fixed(15),\n",
    "    )\n",
    "# Gets all img elements from the page\n",
    "def get_image_elements(driver):\n",
    "    try:\n",
    "        select_element_page = driver.find_element(By.ID, \"selectReadType\")\n",
    "    except NoSuchElementException as e:\n",
    "        logging.error(\"Cannot access comic book issue page.\")\n",
    "    else:\n",
    "      select = Select(select_element_page)\n",
    "      select.select_by_value(\"1\")\n",
    "      div_image = driver.find_element(By.ID, \"divImage\")\n",
    "      img_elements = div_image.find_elements(By.TAG_NAME, \"img\")\n",
    "    return img_elements"
   ]
  },
  {
   "cell_type": "code",
   "execution_count": 52,
   "metadata": {},
   "outputs": [],
   "source": [
    "for issue in issues[:]:\n",
    "    for title, url in issue.items():\n",
    "        title = make_valid_filename(title)\n",
    "        \n",
    "        # If the issue.pdf exists, skip it\n",
    "        if os.path.exists(f\"{comic_series_folder}/{title}.pdf\"):\n",
    "            logging.info(f\"'{title}.pdf' already exists.\")\n",
    "        # Else, create it\n",
    "        else:\n",
    "            issue_folder = os.path.join(comic_series_path, title)\n",
    "            images_folder = os.path.join(issue_folder, \"images\")\n",
    "            try:\n",
    "                os.makedirs(images_folder)\n",
    "                logging.info(f\"Created '{issue_folder}'.\")\n",
    "            except OSError as e:\n",
    "                logging.warning(f\"'{issue_folder}' already exists.\")\n",
    "\n",
    "            print(\"Trying\", title)\n",
    "            logging.info(f\"Working on '{title}'\")\n",
    "\n",
    "            options = webdriver.FirefoxOptions()\n",
    "            # options = options.add_argument(\"-headless\")\n",
    "            options.add_argument(\"-headless\")\n",
    "            driver = webdriver.Firefox(options=options)\n",
    "            driver.get(url)\n",
    "\n",
    "            try:\n",
    "                img_elements = get_image_elements(driver)\n",
    "            except RetryError:\n",
    "                logging.error(\"CAPTCHA timeout! Time limit exceeded.\")\n",
    "                logging.critical(\"Program forcefully exited! Rerun the program again.\")\n",
    "                sys.exit()\n",
    "            else:\n",
    "                img_srcs = [elem.get_attribute(\"src\") for elem in img_elements]\n",
    "                print(\"Images found:\", len(img_srcs))\n",
    "            driver.quit()\n",
    "\n",
    "            image_files = []\n",
    "            i = 1\n",
    "            successful_img_downloads = 0\n",
    "            for img_url in img_srcs:\n",
    "                try:\n",
    "                    response = get_image_from_url(img_url)\n",
    "                except:\n",
    "                    logging.error(f\"{title}: image {i} of {len(img_srcs)}\")\n",
    "                    logging.error(f\"Unsuccessful download of image: {img_url}\")\n",
    "                    pil_image = Image.open(\"no-image-placeholder.jpg\")\n",
    "                else:\n",
    "                    image_name = f\"image_{i}.jpg\"\n",
    "                    with open(os.path.join(images_folder, image_name), \"wb\") as image:\n",
    "                        image_download = response.content\n",
    "                        image.write(image_download)\n",
    "                    pil_image = Image.open(os.path.join(images_folder, image_name))\n",
    "                    successful_img_downloads += 1\n",
    "                finally:\n",
    "                    image_files.append(pil_image)\n",
    "                i += 1\n",
    "            # print(\"Total successful image downloads\", successful_img_downloads, \"out of\", len(img_srcs))\n",
    "            logging.info(f\"'{title}': {successful_img_downloads}/{len(img_srcs)} images downloaded\")\n",
    "\n",
    "            image_files[0].save(f\"{comic_series_folder}/{title}.pdf\", save_all=True, append_images=image_files[1:])\n",
    "            logging.info(f\"Created '{title}.pdf'\")\n",
    "            try:\n",
    "                shutil.rmtree(issue_folder)\n",
    "                print(f\"Folder '{issue_folder}' successfully deleted.\")\n",
    "                # logging.info(f\"'{issue_folder}' deleted.\")\n",
    "\n",
    "            except OSError as e:\n",
    "                print(f\"Folder '{issue_folder}' already deleted.\")\n",
    "                # logging.warning(f\"'{issue_folder}' already deleted.\")\n",
    "\n",
    "            print(\"Finished\", title)\n",
    "\n",
    "logging.info(f\"Completed Series: '{comic_series}'\\n\")\n",
    "logging.shutdown()\n",
    "os.rename(\"logfile.log\", comic_series_path+\"/\"+current_datetime+\".log\")"
   ]
  }
 ],
 "metadata": {
  "kernelspec": {
   "display_name": "env",
   "language": "python",
   "name": "python3"
  },
  "language_info": {
   "codemirror_mode": {
    "name": "ipython",
    "version": 3
   },
   "file_extension": ".py",
   "mimetype": "text/x-python",
   "name": "python",
   "nbconvert_exporter": "python",
   "pygments_lexer": "ipython3",
   "version": "3.12.2"
  }
 },
 "nbformat": 4,
 "nbformat_minor": 2
}
