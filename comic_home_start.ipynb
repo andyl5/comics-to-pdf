{
 "cells": [
  {
   "cell_type": "code",
   "execution_count": 1,
   "metadata": {},
   "outputs": [],
   "source": [
    "from selenium import webdriver\n",
    "from selenium.webdriver.common.by import By\n",
    "from selenium.webdriver.support.select import Select\n",
    "import requests\n",
    "import os\n",
    "from PIL import Image"
   ]
  },
  {
   "cell_type": "code",
   "execution_count": 2,
   "metadata": {},
   "outputs": [],
   "source": [
    "url = \"https://readcomiconline.li/Comic/Injustice-Gods-Among-Us-I\"\n",
    "parsed_url = url.split(\"/\")\n",
    "comic_series = parsed_url[-1]"
   ]
  },
  {
   "cell_type": "code",
   "execution_count": 3,
   "metadata": {},
   "outputs": [],
   "source": [
    "\n",
    "\n",
    "options = webdriver.FirefoxOptions()\n",
    "options = options.add_argument(\"-headless\")\n",
    "driver = webdriver.Firefox(options=options)\n",
    "driver.get(url)\n",
    "html_content = driver.page_source\n",
    "\n"
   ]
  },
  {
   "cell_type": "code",
   "execution_count": null,
   "metadata": {},
   "outputs": [],
   "source": []
  },
  {
   "cell_type": "code",
   "execution_count": 4,
   "metadata": {},
   "outputs": [],
   "source": [
    "table_element = driver.find_element(By.CLASS_NAME, \"listing\")\n",
    "anchor_elements = table_element.find_elements(By.TAG_NAME, \"a\")\n",
    "# issues_urls = [elem.get_attribute(\"href\") for elem in anchor_elements]\n",
    "issues = {elem.text: elem.get_attribute(\"href\") for elem in anchor_elements}\n",
    "\n",
    "\n",
    "\n",
    "\n",
    "driver.quit()\n"
   ]
  },
  {
   "cell_type": "code",
   "execution_count": 5,
   "metadata": {},
   "outputs": [
    {
     "name": "stdout",
     "output_type": "stream",
     "text": [
      "Directory 'Injustice-Gods-Among-Us-I' created successfully.\n"
     ]
    }
   ],
   "source": [
    "comic_series_folder = f\"{comic_series}\"\n",
    "try:\n",
    "    os.makedirs(comic_series_folder)\n",
    "    print(f\"Directory '{comic_series_folder}' created successfully.\")\n",
    "    comic_series_path = os.path.join(comic_series_folder)\n",
    "except OSError as e:\n",
    "    print(f\"Error creating directory '{comic_series_folder}': {e}\")\n",
    "    # Optionally, handle the error or raise it to the caller.\n"
   ]
  },
  {
   "cell_type": "code",
   "execution_count": 6,
   "metadata": {},
   "outputs": [
    {
     "name": "stdout",
     "output_type": "stream",
     "text": [
      "Injustice: Gods Among Us [I] Issue #36 https://readcomiconline.li/Comic/Injustice-Gods-Among-Us-I/Issue-36?id=25113\n",
      "Injustice: Gods Among Us [I] Issue #35 https://readcomiconline.li/Comic/Injustice-Gods-Among-Us-I/Issue-35?id=25111\n",
      "Injustice: Gods Among Us [I] Issue #34 https://readcomiconline.li/Comic/Injustice-Gods-Among-Us-I/Issue-34?id=25109\n",
      "Injustice: Gods Among Us [I] Issue #33 https://readcomiconline.li/Comic/Injustice-Gods-Among-Us-I/Issue-33?id=25107\n",
      "Injustice: Gods Among Us [I] Issue #32 https://readcomiconline.li/Comic/Injustice-Gods-Among-Us-I/Issue-32?id=25106\n",
      "Injustice: Gods Among Us [I] Issue #31 https://readcomiconline.li/Comic/Injustice-Gods-Among-Us-I/Issue-31?id=25104\n",
      "Injustice: Gods Among Us [I] Issue #30 https://readcomiconline.li/Comic/Injustice-Gods-Among-Us-I/Issue-30?id=25102\n",
      "Injustice: Gods Among Us [I] Issue #29 https://readcomiconline.li/Comic/Injustice-Gods-Among-Us-I/Issue-29?id=25099\n",
      "Injustice: Gods Among Us [I] Issue #28 https://readcomiconline.li/Comic/Injustice-Gods-Among-Us-I/Issue-28?id=25097\n",
      "Injustice: Gods Among Us [I] Issue #27 https://readcomiconline.li/Comic/Injustice-Gods-Among-Us-I/Issue-27?id=25095\n",
      "Injustice: Gods Among Us [I] Issue #26 https://readcomiconline.li/Comic/Injustice-Gods-Among-Us-I/Issue-26?id=25093\n",
      "Injustice: Gods Among Us [I] Issue #25 https://readcomiconline.li/Comic/Injustice-Gods-Among-Us-I/Issue-25?id=25092\n",
      "Injustice: Gods Among Us [I] Issue #24 https://readcomiconline.li/Comic/Injustice-Gods-Among-Us-I/Issue-24?id=25090\n",
      "Injustice: Gods Among Us [I] Issue #23 https://readcomiconline.li/Comic/Injustice-Gods-Among-Us-I/Issue-23?id=25088\n",
      "Injustice: Gods Among Us [I] Issue #22 https://readcomiconline.li/Comic/Injustice-Gods-Among-Us-I/Issue-22?id=25086\n",
      "Injustice: Gods Among Us [I] Issue #21 https://readcomiconline.li/Comic/Injustice-Gods-Among-Us-I/Issue-21?id=25084\n",
      "Injustice: Gods Among Us [I] Issue #20 https://readcomiconline.li/Comic/Injustice-Gods-Among-Us-I/Issue-20?id=25082\n",
      "Injustice: Gods Among Us [I] Issue #19 https://readcomiconline.li/Comic/Injustice-Gods-Among-Us-I/Issue-19?id=25079\n",
      "Injustice: Gods Among Us [I] Issue #18 https://readcomiconline.li/Comic/Injustice-Gods-Among-Us-I/Issue-18?id=25077\n",
      "Injustice: Gods Among Us [I] Issue #17 https://readcomiconline.li/Comic/Injustice-Gods-Among-Us-I/Issue-17?id=25075\n",
      "Injustice: Gods Among Us [I] Issue #16 https://readcomiconline.li/Comic/Injustice-Gods-Among-Us-I/Issue-16?id=25073\n",
      "Injustice: Gods Among Us [I] Issue #15 https://readcomiconline.li/Comic/Injustice-Gods-Among-Us-I/Issue-15?id=25071\n",
      "Injustice: Gods Among Us [I] Issue #14 https://readcomiconline.li/Comic/Injustice-Gods-Among-Us-I/Issue-14?id=25069\n",
      "Injustice: Gods Among Us [I] Issue #13 https://readcomiconline.li/Comic/Injustice-Gods-Among-Us-I/Issue-13?id=25067\n",
      "Injustice: Gods Among Us [I] Issue #12 https://readcomiconline.li/Comic/Injustice-Gods-Among-Us-I/Issue-12?id=25066\n",
      "Injustice: Gods Among Us [I] Issue #11 https://readcomiconline.li/Comic/Injustice-Gods-Among-Us-I/Issue-11?id=25064\n",
      "Injustice: Gods Among Us [I] Issue #10 https://readcomiconline.li/Comic/Injustice-Gods-Among-Us-I/Issue-10?id=25062\n",
      "Injustice: Gods Among Us [I] Issue #9 https://readcomiconline.li/Comic/Injustice-Gods-Among-Us-I/Issue-9?id=25124\n",
      "Injustice: Gods Among Us [I] Issue #8 https://readcomiconline.li/Comic/Injustice-Gods-Among-Us-I/Issue-8?id=25122\n",
      "Injustice: Gods Among Us [I] Issue #7 https://readcomiconline.li/Comic/Injustice-Gods-Among-Us-I/Issue-7?id=25121\n",
      "Injustice: Gods Among Us [I] Issue #6 https://readcomiconline.li/Comic/Injustice-Gods-Among-Us-I/Issue-6?id=25119\n",
      "Injustice: Gods Among Us [I] Issue #5 https://readcomiconline.li/Comic/Injustice-Gods-Among-Us-I/Issue-5?id=25117\n",
      "Injustice: Gods Among Us [I] Issue #4 https://readcomiconline.li/Comic/Injustice-Gods-Among-Us-I/Issue-4?id=25115\n",
      "Injustice: Gods Among Us [I] Issue #3 https://readcomiconline.li/Comic/Injustice-Gods-Among-Us-I/Issue-3?id=25100\n",
      "Injustice: Gods Among Us [I] Issue #2 https://readcomiconline.li/Comic/Injustice-Gods-Among-Us-I/Issue-2?id=25081\n",
      "Injustice: Gods Among Us [I] Issue #1 https://readcomiconline.li/Comic/Injustice-Gods-Among-Us-I/Issue-1?id=25060\n",
      "Injustice: Gods Among Us [I] _Annual 1 https://readcomiconline.li/Comic/Injustice-Gods-Among-Us-I/Annual-1?id=75226\n"
     ]
    }
   ],
   "source": [
    "for title, url in issues.items():\n",
    "    print(title, url)"
   ]
  },
  {
   "cell_type": "code",
   "execution_count": 15,
   "metadata": {},
   "outputs": [
    {
     "name": "stdout",
     "output_type": "stream",
     "text": [
      "Injustice Gods Among Us [I] Issue #36\n"
     ]
    }
   ],
   "source": []
  },
  {
   "cell_type": "code",
   "execution_count": 37,
   "metadata": {},
   "outputs": [
    {
     "name": "stdout",
     "output_type": "stream",
     "text": [
      "Error creating directories: [WinError 183] Cannot create a file when that file already exists: 'Injustice-Gods-Among-Us-I\\\\Injustice Gods Among Us [I] Issue #2\\\\images'\n",
      "Trying Injustice Gods Among Us [I] Issue #2\n",
      "Successful Injustice Gods Among Us [I] Issue #2\n",
      "Directories 'Injustice-Gods-Among-Us-I\\Injustice Gods Among Us [I] Issue #1' and 'Injustice-Gods-Among-Us-I\\Injustice Gods Among Us [I] Issue #1\\images' created successfully.\n",
      "Trying Injustice Gods Among Us [I] Issue #1\n",
      "Successful Injustice Gods Among Us [I] Issue #1\n"
     ]
    }
   ],
   "source": [
    "for title, url in issues.items():\n",
    "    # if title[-2] != \"#\" and int(title[-2:]) > 7:\n",
    "    if int(title[-1]) <= 2 and title[-2] == \"#\":\n",
    "    # if int(title[-2:]) > 22:\n",
    "        # pass\n",
    "    # else:\n",
    "        try:\n",
    "            pattern = r'[<>:\"\\/|?*]'\n",
    "            # Use re.sub() to replace all occurrences of the special characters with an empty string\n",
    "            title = re.sub(pattern, '', title)\n",
    "\n",
    "            issue_folder = os.path.join(comic_series_path, title)\n",
    "            images_folder = os.path.join(issue_folder, \"images\")\n",
    "            os.makedirs(images_folder)\n",
    "            print(f\"Directories '{issue_folder}' and '{images_folder}' created successfully.\")\n",
    "        except OSError as e:\n",
    "            print(f\"Error creating directories: {e}\")\n",
    "            # Optionally, handle the error or raise it to the caller.\n",
    "\n",
    "        print(\"Trying\", title)\n",
    "\n",
    "        options = webdriver.FirefoxOptions()\n",
    "        options = options.add_argument(\"-headless\")\n",
    "        driver = webdriver.Firefox(options=options)\n",
    "        driver.get(url)\n",
    "        select_element_page = driver.find_element(By.ID, \"selectReadType\")\n",
    "        select = Select(select_element_page)\n",
    "        select.select_by_value(\"1\")\n",
    "\n",
    "        div_image = driver.find_element(By.ID, \"divImage\")\n",
    "        img_elements = div_image.find_elements(By.TAG_NAME, \"img\")\n",
    "\n",
    "        img_srcs = [elem.get_attribute(\"src\") for elem in img_elements]\n",
    "\n",
    "        driver.quit()\n",
    "\n",
    "        image_files = []\n",
    "        i = 1\n",
    "        for img_url in img_srcs:\n",
    "            response = requests.get(img_url)\n",
    "            if response.status_code == 200:\n",
    "                image_name = f\"{title}_image_{i}.jpg\"\n",
    "                with open(os.path.join(images_folder, image_name), \"wb\") as image:\n",
    "                    image_download = response.content\n",
    "                    image.write(image_download)\n",
    "                pil_image = Image.open(os.path.join(images_folder, image_name))\n",
    "                image_files.append(pil_image)\n",
    "            i += 1\n",
    "        image_files[0].save(f\"{comic_series_folder}/{title}.pdf\", save_all=True, append_images=image_files[1:])\n",
    "        print(\"Successful\", title)\n"
   ]
  }
 ],
 "metadata": {
  "kernelspec": {
   "display_name": "env",
   "language": "python",
   "name": "python3"
  },
  "language_info": {
   "codemirror_mode": {
    "name": "ipython",
    "version": 3
   },
   "file_extension": ".py",
   "mimetype": "text/x-python",
   "name": "python",
   "nbconvert_exporter": "python",
   "pygments_lexer": "ipython3",
   "version": "3.12.2"
  }
 },
 "nbformat": 4,
 "nbformat_minor": 2
}
