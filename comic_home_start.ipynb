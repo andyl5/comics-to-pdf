{
 "cells": [
  {
   "cell_type": "code",
   "execution_count": null,
   "metadata": {},
   "outputs": [],
   "source": [
    "# import statements\n",
    "from selenium import webdriver\n",
    "from selenium.webdriver.common.by import By\n",
    "from selenium.webdriver.support.select import Select\n",
    "import requests\n",
    "import os\n",
    "from PIL import Image\n",
    "import re\n",
    "import shutil\n",
    "import ctypes\n",
    "from tenacity import retry, stop_after_delay"
   ]
  },
  {
   "cell_type": "code",
   "execution_count": null,
   "metadata": {},
   "outputs": [],
   "source": [
    "# Paste the URL of a comic series from:\n",
    "# https://readcomiconline.li/\n",
    "url = \"\".rstrip(\"/\")\n",
    "parsed_url = url.split(\"/\")\n",
    "comic_series = parsed_url[-1]"
   ]
  },
  {
   "cell_type": "code",
   "execution_count": null,
   "metadata": {},
   "outputs": [],
   "source": [
    "options = webdriver.FirefoxOptions()\n",
    "options = options.add_argument(\"-headless\")\n",
    "driver = webdriver.Firefox(options=options)\n",
    "driver.get(url)"
   ]
  },
  {
   "cell_type": "code",
   "execution_count": null,
   "metadata": {},
   "outputs": [],
   "source": [
    "# Get all issues URLs in the series\n",
    "table_element = driver.find_element(By.CLASS_NAME, \"listing\")\n",
    "anchor_elements = table_element.find_elements(By.TAG_NAME, \"a\")\n",
    "issues = [{elem.text: elem.get_attribute(\"href\")} for elem in anchor_elements]\n",
    "issues.reverse()\n",
    "driver.quit()"
   ]
  },
  {
   "cell_type": "code",
   "execution_count": null,
   "metadata": {},
   "outputs": [],
   "source": [
    "comic_series_folder = f\"{comic_series}\"\n",
    "try:\n",
    "    os.makedirs(comic_series_folder)\n",
    "    print(f\"Directory '{comic_series_folder}' created successfully.\")\n",
    "    comic_series_path = os.path.join(comic_series_folder)\n",
    "except OSError as e:\n",
    "    comic_series_path = comic_series_folder\n",
    "    print(f\"Error creating directory '{comic_series_folder}': {e}\")"
   ]
  },
  {
   "cell_type": "code",
   "execution_count": null,
   "metadata": {},
   "outputs": [],
   "source": [
    "@retry(stop=stop_after_delay(10))\n",
    "def get_image(img_url):\n",
    "    return requests.get(img_url)"
   ]
  },
  {
   "cell_type": "code",
   "execution_count": null,
   "metadata": {},
   "outputs": [],
   "source": [
    "for issue in issues[:]:\n",
    "\n",
    "    for title, url in issue.items():\n",
    "\n",
    "        pattern = r'[<>:\"\\/|?*]'\n",
    "        # Use re.sub() to replace all occurrences of the special characters with an empty string\n",
    "        title = re.sub(pattern, '', title)\n",
    "        if not os.path.exists(f\"{comic_series_folder}/{title}.pdf\"):\n",
    "            issue_folder = os.path.join(comic_series_path, title)\n",
    "            images_folder = os.path.join(issue_folder, \"images\")\n",
    "            try:\n",
    "                os.makedirs(images_folder)\n",
    "                print(f\"Directories '{issue_folder}' and '{images_folder}' created successfully.\")\n",
    "            except OSError as e:\n",
    "                print(f\"Comic series folder already exists.\")\n",
    "\n",
    "            print(\"Trying\", title)\n",
    "\n",
    "            try:\n",
    "                options = webdriver.FirefoxOptions()\n",
    "                options = options.add_argument(\"-headless\")\n",
    "                driver = webdriver.Firefox(options=options)\n",
    "                driver.get(url)\n",
    "                select_element_page = driver.find_element(By.ID, \"selectReadType\")\n",
    "                select = Select(select_element_page)\n",
    "                select.select_by_value(\"1\")\n",
    "                div_image = driver.find_element(By.ID, \"divImage\")\n",
    "                img_elements = div_image.find_elements(By.TAG_NAME, \"img\")\n",
    "            except:\n",
    "                ctypes.windll.user32.MessageBoxW(None, \"Error occurred! Captcha?\", \"Error\", 0)\n",
    "            else:\n",
    "                img_srcs = [elem.get_attribute(\"src\") for elem in img_elements]\n",
    "                print(\"Images found:\", len(img_srcs))\n",
    "            finally:\n",
    "                driver.quit()\n",
    "\n",
    "            image_files = []\n",
    "            i = 1\n",
    "            successful_img_downloads = 0\n",
    "            for img_url in img_srcs:\n",
    "                try:\n",
    "                    response = get_image(img_url)\n",
    "                except:\n",
    "                    print(\"\")\n",
    "                    ctypes.windll.user32.MessageBoxW(None, \"Requesting image url failure?\", \"Error\", 0)\n",
    "                    print(\"Error: Image\", i, \"of\", len(img_srcs))\n",
    "                    print(img_url)\n",
    "                    pil_image = Image.open(\"no-image-placeholder.jpg\")\n",
    "                else:\n",
    "                    image_name = f\"image_{i}.jpg\"\n",
    "                    with open(os.path.join(images_folder, image_name), \"wb\") as image:\n",
    "                        image_download = response.content\n",
    "                        image.write(image_download)\n",
    "                    pil_image = Image.open(os.path.join(images_folder, image_name))\n",
    "                    successful_img_downloads += 1\n",
    "                finally:\n",
    "                    image_files.append(pil_image)\n",
    "                i += 1\n",
    "            print(\"Total successful image downloads\", successful_img_downloads, \"out of\", len(img_srcs))\n",
    "\n",
    "            image_files[0].save(f\"{comic_series_folder}/{title}.pdf\", save_all=True, append_images=image_files[1:])\n",
    "            try:\n",
    "                shutil.rmtree(issue_folder)\n",
    "                print(f\"Folder '{issue_folder}' successfully deleted.\")\n",
    "\n",
    "            except OSError as e:\n",
    "                print(f\"Error: {issue_folder} : {e.strerror}\")\n",
    "\n",
    "            print(\"Successful\", title)\n",
    "\n",
    "ctypes.windll.user32.MessageBoxW(None, f\"Completed {comic_series}\", \"Success!\", 0)"
   ]
  }
 ],
 "metadata": {
  "kernelspec": {
   "display_name": "env",
   "language": "python",
   "name": "python3"
  },
  "language_info": {
   "codemirror_mode": {
    "name": "ipython",
    "version": 3
   },
   "file_extension": ".py",
   "mimetype": "text/x-python",
   "name": "python",
   "nbconvert_exporter": "python",
   "pygments_lexer": "ipython3",
   "version": "3.12.2"
  }
 },
 "nbformat": 4,
 "nbformat_minor": 2
}
