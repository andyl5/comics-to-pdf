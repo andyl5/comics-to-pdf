{
 "cells": [
  {
   "cell_type": "markdown",
   "metadata": {},
   "source": [
    "import statements"
   ]
  },
  {
   "cell_type": "code",
   "execution_count": null,
   "metadata": {},
   "outputs": [],
   "source": [
    "from selenium import webdriver\n",
    "from selenium.webdriver.common.by import By\n",
    "from selenium.webdriver.support.select import Select\n",
    "from selenium.common.exceptions import NoSuchElementException\n",
    "import requests\n",
    "import os\n",
    "from PIL import Image\n",
    "import re\n",
    "import shutil\n",
    "from tenacity import retry, stop_after_attempt, wait_fixed, RetryError\n",
    "from datetime import datetime\n",
    "import logging\n",
    "import sys\n",
    "import time"
   ]
  },
  {
   "cell_type": "markdown",
   "metadata": {},
   "source": [
    "image processing functions"
   ]
  },
  {
   "cell_type": "code",
   "execution_count": null,
   "metadata": {},
   "outputs": [],
   "source": [
    "def download_image(img_url, i):\n",
    "    try:\n",
    "        response = get_image_from_url(img_url)\n",
    "    except:\n",
    "        logging.error(f\"Unsuccessful download of image {i}: {img_url}\")\n",
    "        pil_image = Image.open(\"no-image-placeholder.jpg\")\n",
    "    else:\n",
    "        image_name = f\"image_{i}.jpg\"\n",
    "        with open(os.path.join(images_folder, image_name), \"wb\") as image:\n",
    "            image_download = response.content\n",
    "            image.write(image_download)\n",
    "        pil_image = Image.open(os.path.join(images_folder, image_name))\n",
    "    finally:\n",
    "        return pil_image\n",
    "\n",
    "def get_all_image_files(img_srcs):\n",
    "    i = 1\n",
    "    image_files = []\n",
    "    for img_url in img_srcs:\n",
    "        image_file = download_image(img_url, i)\n",
    "        image_files.append(image_file)\n",
    "        i += 1\n",
    "    return image_files"
   ]
  },
  {
   "cell_type": "markdown",
   "metadata": {},
   "source": [
    "captcha related functions"
   ]
  },
  {
   "cell_type": "code",
   "execution_count": null,
   "metadata": {},
   "outputs": [],
   "source": [
    "def is_captcha_page(driver):\n",
    "    try:\n",
    "        captcha_form = driver.find_element(By.ID, \"formVerify\")\n",
    "    except:\n",
    "        print(\"No CAPTCHA on this page\")\n",
    "        return False\n",
    "    else:\n",
    "        print(\"CAPTCHA found on this page\")\n",
    "        print(f\"CAPTCHA URL: {driver.current_url}\")\n",
    "        logging.warning(\"CAPTCHA found on this page\")\n",
    "        logging.warning(f\"CAPTCHA URL: {driver.current_url}\")\n",
    "        return True\n",
    "\n",
    "@retry(stop=stop_after_attempt(5),)\n",
    "def solve_captcha(captcha_url):\n",
    "    captcha_driver = initialize_driver(False)\n",
    "    print(\"Starting captcha driver\")\n",
    "    try:\n",
    "        captcha_driver.get(captcha_url)\n",
    "        logging.info(\"60 seconds to complete the CAPTCHA\")\n",
    "        print(\"60 seconds to complete CAPTCHA\")\n",
    "        time.sleep(60)\n",
    "        if is_captcha_page(captcha_driver):\n",
    "            logging.warning(\"CAPTCHA not complete\")\n",
    "            raise Exception(\"CAPTCHA not complete\")\n",
    "        else:\n",
    "            print(\"No CAPTCHA or it's solved\")\n",
    "            logging.info(\"No CAPTCHA or it's solved\")\n",
    "    finally:\n",
    "        print(\"Closing captcha driver\")\n",
    "        captcha_driver.quit()"
   ]
  },
  {
   "cell_type": "markdown",
   "metadata": {},
   "source": [
    "driver-related functions"
   ]
  },
  {
   "cell_type": "code",
   "execution_count": null,
   "metadata": {},
   "outputs": [],
   "source": [
    "# Initializes a Selenium webdriver\n",
    "def initialize_driver(headless=True):\n",
    "    options = webdriver.FirefoxOptions()\n",
    "    if headless == True:\n",
    "        options.add_argument(\"-headless\")\n",
    "    driver = webdriver.Firefox(options=options)\n",
    "    return driver\n",
    "\n",
    "# Gets the series name\n",
    "def get_series_title(driver):\n",
    "    try:\n",
    "        title_element = driver.find_element(By.CLASS_NAME, \"bigChar\")\n",
    "    except NoSuchElementException as e:\n",
    "        logging.error(\"Series title not found!\")\n",
    "    else:\n",
    "        series_title = title_element.text\n",
    "        series_title = make_valid_filename(series_title)\n",
    "        return series_title\n",
    "\n",
    "# Gets all a elements/comic book issues from a series\n",
    "def get_anchor_elements(driver):\n",
    "    try:\n",
    "        table_element = driver.find_element(By.CLASS_NAME, \"listing\")\n",
    "    except NoSuchElementException as e:\n",
    "        logging.error(\"No comic book issues (volumes) found!\")\n",
    "    else:\n",
    "        anchor_elements = table_element.find_elements(By.TAG_NAME, \"a\")\n",
    "        return anchor_elements\n",
    "    \n",
    "# Gets all img elements from the page\n",
    "def get_image_elements(driver):\n",
    "    try:\n",
    "        select_element_page = driver.find_element(By.ID, \"selectReadType\")\n",
    "    except NoSuchElementException as e:\n",
    "        logging.error(\"Cannot access comic book issue page.\")\n",
    "    else:\n",
    "        select = Select(select_element_page)\n",
    "        select.select_by_value(\"1\")\n",
    "        div_image = driver.find_element(By.ID, \"divImage\")\n",
    "        img_elements = div_image.find_elements(By.TAG_NAME, \"img\")\n",
    "        return img_elements"
   ]
  },
  {
   "cell_type": "markdown",
   "metadata": {},
   "source": [
    "misc functions"
   ]
  },
  {
   "cell_type": "code",
   "execution_count": null,
   "metadata": {},
   "outputs": [],
   "source": [
    "def make_valid_filename(filename):\n",
    "    pattern = r'[<>:\"\\/|?*]'\n",
    "    # Use re.sub() to replace all occurrences of the special characters with an empty string\n",
    "    filename = re.sub(pattern, '', filename)\n",
    "    return filename\n",
    "\n",
    "@retry(stop=stop_after_attempt(10), wait=wait_fixed(1))\n",
    "def get_image_from_url(img_url):\n",
    "    return requests.get(img_url)"
   ]
  },
  {
   "cell_type": "markdown",
   "metadata": {},
   "source": [
    "Initialize logging"
   ]
  },
  {
   "cell_type": "code",
   "execution_count": null,
   "metadata": {},
   "outputs": [],
   "source": [
    "logger = logging.getLogger(__name__)\n",
    "current_datetime = datetime.now().strftime('%Y_%m_%d_%H_%M_%S')\n",
    "logging.basicConfig(filename=\"logfile.log\", encoding='utf-8', \n",
    "                    level=logging.DEBUG, format='%(asctime)s - %(levelname)s - %(message)s')\n",
    "\n",
    "logging.getLogger('selenium').setLevel(logging.WARNING)\n",
    "logging.getLogger('selenium.webdriver').setLevel(logging.WARNING)\n",
    "logging.getLogger('selenium.webdriver.common').setLevel(logging.WARNING)\n",
    "logging.getLogger('requests').setLevel(logging.WARNING)\n",
    "logging.getLogger('urllib3').setLevel(logging.WARNING)\n",
    "logging.getLogger('PIL').setLevel(logging.WARNING)"
   ]
  },
  {
   "cell_type": "markdown",
   "metadata": {},
   "source": [
    "URL"
   ]
  },
  {
   "cell_type": "code",
   "execution_count": null,
   "metadata": {},
   "outputs": [],
   "source": [
    "# Paste the URL of a comic series from:\n",
    "# https://readcomiconline.li/\n",
    "url = \"https://readcomiconline.li/Comic/Batman-Off-World\".rstrip(\"/\")\n",
    "# url = \"https://readcomiconline.li/Special/AreYouHuman?reUrl=%2fComic%2fBatman-Off-World\"\n",
    "# url = \"https://readcomiconline.li/Special/AreYouHuman?reUrl=%2fComic%2fBatman-Off-World%2fIssue-1%3fid%3d222020\"\n",
    "logging.info(f\"URL: {url}\")"
   ]
  },
  {
   "cell_type": "markdown",
   "metadata": {},
   "source": [
    "Series page"
   ]
  },
  {
   "cell_type": "code",
   "execution_count": null,
   "metadata": {},
   "outputs": [],
   "source": [
    "driver = initialize_driver()\n",
    "driver.get(url)\n",
    "print(f\"Outside driver: {driver}\")\n",
    "\n",
    "def handles_captcha(driver):\n",
    "    if is_captcha_page(driver):\n",
    "        captcha_url = driver.current_url\n",
    "        try:\n",
    "            solve_captcha(captcha_url)\n",
    "        except RetryError:\n",
    "            print(\"captcha solve timeout\")\n",
    "            logging.error(\"CAPTCHA timeout! Time limit exceeded.\")\n",
    "            logging.critical(\"Program forcefully exited! Rerun the program again.\")\n",
    "            sys.exit()\n",
    "    else:\n",
    "        print(\"no more captcha or ISNT ONE\")\n",
    "\n",
    "# Get the series title\n",
    "handles_captcha(driver)\n",
    "# Refreshes the driver pre-reroute to captcha\n",
    "driver.get(url)\n",
    "print(f\"Main driver URL: {driver.current_url}\")\n",
    "try:\n",
    "    comic_series = get_series_title(driver)\n",
    "    logging.info(f\"Comic Series: '{comic_series}'\")\n",
    "except Exception as e:\n",
    "    print(e)\n",
    "print(comic_series)\n",
    "\n",
    "# Get all issues URLs in the series\n",
    "handles_captcha(driver)\n",
    "try:\n",
    "    anchor_elements = get_anchor_elements(driver)\n",
    "except Exception as e:\n",
    "    print(e)\n",
    "else:\n",
    "    issues = [{elem.text: elem.get_attribute(\"href\")} for elem in anchor_elements]\n",
    "    issues.reverse()\n",
    "    logging.info(f\"Found {len(issues)} issues total.\")\n",
    "driver.quit()"
   ]
  },
  {
   "cell_type": "markdown",
   "metadata": {},
   "source": [
    "Create local series folder"
   ]
  },
  {
   "cell_type": "code",
   "execution_count": null,
   "metadata": {},
   "outputs": [],
   "source": [
    "comic_series_folder = f\"{comic_series}\"\n",
    "try:\n",
    "    os.makedirs(comic_series_folder)\n",
    "    # logging.info(f\"Created {comic_series_folder}.\")\n",
    "    print(f\"Created {comic_series_folder}.\")\n",
    "    comic_series_path = os.path.join(comic_series_folder)\n",
    "except OSError as e:\n",
    "    comic_series_path = comic_series_folder\n",
    "    logging.warning(f\"{comic_series_folder} already exists.\")"
   ]
  },
  {
   "cell_type": "markdown",
   "metadata": {},
   "source": [
    "Process each series issue"
   ]
  },
  {
   "cell_type": "code",
   "execution_count": null,
   "metadata": {},
   "outputs": [],
   "source": [
    "for issue in issues[:]:\n",
    "    for title, url in issue.items():\n",
    "        title = make_valid_filename(title)\n",
    "        \n",
    "        # If the issue.pdf exists, skip it\n",
    "        if os.path.exists(f\"{comic_series_folder}/{title}.pdf\"):\n",
    "            logging.info(f\"'{title}.pdf' already exists.\")\n",
    "        # Else, create it\n",
    "        else:\n",
    "            issue_folder = os.path.join(comic_series_path, title)\n",
    "            images_folder = os.path.join(issue_folder, \"images\")\n",
    "            try:\n",
    "                os.makedirs(images_folder)\n",
    "                logging.info(f\"Created '{issue_folder}'.\")\n",
    "            except OSError as e:\n",
    "                logging.warning(f\"'{issue_folder}' already exists.\")\n",
    "\n",
    "            print(\"Trying\", title)\n",
    "            logging.info(f\"Working on '{title}'\")\n",
    "\n",
    "            driver = initialize_driver()\n",
    "            driver.get(url)\n",
    "\n",
    "            handles_captcha(driver)\n",
    "            driver.get(url)\n",
    "            try:\n",
    "                img_elements = get_image_elements(driver)\n",
    "            except Exception as e:\n",
    "                print(e)\n",
    "            else:\n",
    "                img_srcs = [elem.get_attribute(\"src\") for elem in img_elements]\n",
    "                print(\"Images found:\", len(img_srcs))\n",
    "            driver.quit()\n",
    "\n",
    "            image_files = get_all_image_files(img_srcs)\n",
    "\n",
    "            image_files[0].save(f\"{comic_series_folder}/{title}.pdf\", save_all=True, append_images=image_files[1:])\n",
    "            logging.info(f\"Created '{title}.pdf'\")\n",
    "            try:\n",
    "                shutil.rmtree(issue_folder)\n",
    "                print(f\"Folder '{issue_folder}' successfully deleted.\")\n",
    "                # logging.info(f\"'{issue_folder}' deleted.\")\n",
    "\n",
    "            except OSError as e:\n",
    "                print(f\"Folder '{issue_folder}' already deleted.\")\n",
    "                # logging.warning(f\"'{issue_folder}' already deleted.\")\n",
    "\n",
    "            print(\"Finished\", title)"
   ]
  },
  {
   "cell_type": "markdown",
   "metadata": {},
   "source": [
    "Gracefully close/handle logging"
   ]
  },
  {
   "cell_type": "code",
   "execution_count": null,
   "metadata": {},
   "outputs": [],
   "source": [
    "logging.info(f\"Completed Series: '{comic_series}'\\n\")\n",
    "logging.shutdown()\n",
    "os.rename(\"logfile.log\", comic_series_path+\"/\"+current_datetime+\".log\")"
   ]
  }
 ],
 "metadata": {
  "kernelspec": {
   "display_name": ".venv",
   "language": "python",
   "name": "python3"
  },
  "language_info": {
   "codemirror_mode": {
    "name": "ipython",
    "version": 3
   },
   "file_extension": ".py",
   "mimetype": "text/x-python",
   "name": "python",
   "nbconvert_exporter": "python",
   "pygments_lexer": "ipython3",
   "version": "3.12.2"
  }
 },
 "nbformat": 4,
 "nbformat_minor": 2
}
