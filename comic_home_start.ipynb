{
 "cells": [
  {
   "cell_type": "code",
   "execution_count": 26,
   "metadata": {},
   "outputs": [],
   "source": [
    "from selenium import webdriver\n",
    "from selenium.webdriver.common.by import By\n",
    "from selenium.webdriver.support.select import Select\n",
    "import requests\n",
    "import os\n",
    "from PIL import Image\n",
    "import re"
   ]
  },
  {
   "cell_type": "code",
   "execution_count": 27,
   "metadata": {},
   "outputs": [],
   "source": [
    "url = \"https://readcomiconline.li/Comic/Injustice-Gods-Among-Us-Year-Two\"\n",
    "parsed_url = url.split(\"/\")\n",
    "comic_series = parsed_url[-1]"
   ]
  },
  {
   "cell_type": "code",
   "execution_count": 28,
   "metadata": {},
   "outputs": [],
   "source": [
    "\n",
    "\n",
    "options = webdriver.FirefoxOptions()\n",
    "options = options.add_argument(\"-headless\")\n",
    "driver = webdriver.Firefox(options=options)\n",
    "driver.get(url)\n",
    "html_content = driver.page_source\n",
    "\n"
   ]
  },
  {
   "cell_type": "code",
   "execution_count": null,
   "metadata": {},
   "outputs": [],
   "source": []
  },
  {
   "cell_type": "code",
   "execution_count": 29,
   "metadata": {},
   "outputs": [],
   "source": [
    "table_element = driver.find_element(By.CLASS_NAME, \"listing\")\n",
    "anchor_elements = table_element.find_elements(By.TAG_NAME, \"a\")\n",
    "# issues_urls = [elem.get_attribute(\"href\") for elem in anchor_elements]\n",
    "# issues = {elem.text: elem.get_attribute(\"href\") for elem in anchor_elements}\n",
    "issues = [{elem.text: elem.get_attribute(\"href\")} for elem in anchor_elements]\n",
    "issues.reverse()\n",
    "\n",
    "\n",
    "driver.quit()\n"
   ]
  },
  {
   "cell_type": "code",
   "execution_count": 30,
   "metadata": {},
   "outputs": [
    {
     "name": "stdout",
     "output_type": "stream",
     "text": [
      "Directory 'Injustice-Gods-Among-Us-Year-Two' created successfully.\n"
     ]
    }
   ],
   "source": [
    "comic_series_folder = f\"{comic_series}\"\n",
    "try:\n",
    "    os.makedirs(comic_series_folder)\n",
    "    print(f\"Directory '{comic_series_folder}' created successfully.\")\n",
    "    comic_series_path = os.path.join(comic_series_folder)\n",
    "except OSError as e:\n",
    "    print(f\"Error creating directory '{comic_series_folder}': {e}\")\n",
    "    # Optionally, handle the error or raise it to the caller.\n"
   ]
  },
  {
   "cell_type": "code",
   "execution_count": null,
   "metadata": {},
   "outputs": [],
   "source": []
  },
  {
   "cell_type": "code",
   "execution_count": null,
   "metadata": {},
   "outputs": [],
   "source": []
  },
  {
   "cell_type": "code",
   "execution_count": 32,
   "metadata": {},
   "outputs": [
    {
     "name": "stdout",
     "output_type": "stream",
     "text": [
      "Error creating directories: [WinError 183] Cannot create a file when that file already exists: 'Injustice-Gods-Among-Us-Year-Two\\\\Injustice Gods Among Us Year Two Issue #9\\\\images'\n",
      "Trying Injustice Gods Among Us Year Two Issue #9\n",
      "Successful Injustice Gods Among Us Year Two Issue #9\n",
      "Directories 'Injustice-Gods-Among-Us-Year-Two\\Injustice Gods Among Us Year Two Issue #10' and 'Injustice-Gods-Among-Us-Year-Two\\Injustice Gods Among Us Year Two Issue #10\\images' created successfully.\n",
      "Trying Injustice Gods Among Us Year Two Issue #10\n",
      "Successful Injustice Gods Among Us Year Two Issue #10\n",
      "Directories 'Injustice-Gods-Among-Us-Year-Two\\Injustice Gods Among Us Year Two Issue #11' and 'Injustice-Gods-Among-Us-Year-Two\\Injustice Gods Among Us Year Two Issue #11\\images' created successfully.\n",
      "Trying Injustice Gods Among Us Year Two Issue #11\n",
      "Successful Injustice Gods Among Us Year Two Issue #11\n",
      "Directories 'Injustice-Gods-Among-Us-Year-Two\\Injustice Gods Among Us Year Two Issue #12' and 'Injustice-Gods-Among-Us-Year-Two\\Injustice Gods Among Us Year Two Issue #12\\images' created successfully.\n",
      "Trying Injustice Gods Among Us Year Two Issue #12\n",
      "Successful Injustice Gods Among Us Year Two Issue #12\n",
      "Directories 'Injustice-Gods-Among-Us-Year-Two\\Injustice Gods Among Us Year Two Issue #13' and 'Injustice-Gods-Among-Us-Year-Two\\Injustice Gods Among Us Year Two Issue #13\\images' created successfully.\n",
      "Trying Injustice Gods Among Us Year Two Issue #13\n",
      "Successful Injustice Gods Among Us Year Two Issue #13\n",
      "Directories 'Injustice-Gods-Among-Us-Year-Two\\Injustice Gods Among Us Year Two Issue #14' and 'Injustice-Gods-Among-Us-Year-Two\\Injustice Gods Among Us Year Two Issue #14\\images' created successfully.\n",
      "Trying Injustice Gods Among Us Year Two Issue #14\n",
      "Successful Injustice Gods Among Us Year Two Issue #14\n",
      "Directories 'Injustice-Gods-Among-Us-Year-Two\\Injustice Gods Among Us Year Two Issue #15' and 'Injustice-Gods-Among-Us-Year-Two\\Injustice Gods Among Us Year Two Issue #15\\images' created successfully.\n",
      "Trying Injustice Gods Among Us Year Two Issue #15\n",
      "Successful Injustice Gods Among Us Year Two Issue #15\n",
      "Directories 'Injustice-Gods-Among-Us-Year-Two\\Injustice Gods Among Us Year Two Issue #16' and 'Injustice-Gods-Among-Us-Year-Two\\Injustice Gods Among Us Year Two Issue #16\\images' created successfully.\n",
      "Trying Injustice Gods Among Us Year Two Issue #16\n",
      "Successful Injustice Gods Among Us Year Two Issue #16\n",
      "Directories 'Injustice-Gods-Among-Us-Year-Two\\Injustice Gods Among Us Year Two Issue #17' and 'Injustice-Gods-Among-Us-Year-Two\\Injustice Gods Among Us Year Two Issue #17\\images' created successfully.\n",
      "Trying Injustice Gods Among Us Year Two Issue #17\n",
      "Successful Injustice Gods Among Us Year Two Issue #17\n",
      "Directories 'Injustice-Gods-Among-Us-Year-Two\\Injustice Gods Among Us Year Two Issue #18' and 'Injustice-Gods-Among-Us-Year-Two\\Injustice Gods Among Us Year Two Issue #18\\images' created successfully.\n",
      "Trying Injustice Gods Among Us Year Two Issue #18\n",
      "Successful Injustice Gods Among Us Year Two Issue #18\n",
      "Directories 'Injustice-Gods-Among-Us-Year-Two\\Injustice Gods Among Us Year Two Issue #19' and 'Injustice-Gods-Among-Us-Year-Two\\Injustice Gods Among Us Year Two Issue #19\\images' created successfully.\n",
      "Trying Injustice Gods Among Us Year Two Issue #19\n",
      "Successful Injustice Gods Among Us Year Two Issue #19\n",
      "Directories 'Injustice-Gods-Among-Us-Year-Two\\Injustice Gods Among Us Year Two Issue #20' and 'Injustice-Gods-Among-Us-Year-Two\\Injustice Gods Among Us Year Two Issue #20\\images' created successfully.\n",
      "Trying Injustice Gods Among Us Year Two Issue #20\n",
      "Successful Injustice Gods Among Us Year Two Issue #20\n",
      "Directories 'Injustice-Gods-Among-Us-Year-Two\\Injustice Gods Among Us Year Two Issue #21' and 'Injustice-Gods-Among-Us-Year-Two\\Injustice Gods Among Us Year Two Issue #21\\images' created successfully.\n",
      "Trying Injustice Gods Among Us Year Two Issue #21\n",
      "Successful Injustice Gods Among Us Year Two Issue #21\n",
      "Directories 'Injustice-Gods-Among-Us-Year-Two\\Injustice Gods Among Us Year Two Issue #22' and 'Injustice-Gods-Among-Us-Year-Two\\Injustice Gods Among Us Year Two Issue #22\\images' created successfully.\n",
      "Trying Injustice Gods Among Us Year Two Issue #22\n",
      "Successful Injustice Gods Among Us Year Two Issue #22\n",
      "Directories 'Injustice-Gods-Among-Us-Year-Two\\Injustice Gods Among Us Year Two Issue #23' and 'Injustice-Gods-Among-Us-Year-Two\\Injustice Gods Among Us Year Two Issue #23\\images' created successfully.\n",
      "Trying Injustice Gods Among Us Year Two Issue #23\n",
      "Successful Injustice Gods Among Us Year Two Issue #23\n",
      "Directories 'Injustice-Gods-Among-Us-Year-Two\\Injustice Gods Among Us Year Two Issue #24' and 'Injustice-Gods-Among-Us-Year-Two\\Injustice Gods Among Us Year Two Issue #24\\images' created successfully.\n",
      "Trying Injustice Gods Among Us Year Two Issue #24\n",
      "Successful Injustice Gods Among Us Year Two Issue #24\n"
     ]
    }
   ],
   "source": [
    "for issue in issues[9:]:\n",
    "\n",
    "    for title, url in issue.items():\n",
    "        # if title[-2] != \"#\" and int(title[-2:]) > 7:\n",
    "        if True:\n",
    "        # if int(title[-2:]) > 22:\n",
    "            # pass\n",
    "        # else:\n",
    "            try:\n",
    "                pattern = r'[<>:\"\\/|?*]'\n",
    "                # Use re.sub() to replace all occurrences of the special characters with an empty string\n",
    "                title = re.sub(pattern, '', title)\n",
    "\n",
    "                issue_folder = os.path.join(comic_series_path, title)\n",
    "                images_folder = os.path.join(issue_folder, \"images\")\n",
    "                os.makedirs(images_folder)\n",
    "                print(f\"Directories '{issue_folder}' and '{images_folder}' created successfully.\")\n",
    "            except OSError as e:\n",
    "                print(f\"Error creating directories: {e}\")\n",
    "                # Optionally, handle the error or raise it to the caller.\n",
    "\n",
    "            print(\"Trying\", title)\n",
    "\n",
    "            options = webdriver.FirefoxOptions()\n",
    "            options = options.add_argument(\"-headless\")\n",
    "            driver = webdriver.Firefox(options=options)\n",
    "            driver.get(url)\n",
    "            select_element_page = driver.find_element(By.ID, \"selectReadType\")\n",
    "            select = Select(select_element_page)\n",
    "            select.select_by_value(\"1\")\n",
    "\n",
    "            div_image = driver.find_element(By.ID, \"divImage\")\n",
    "            img_elements = div_image.find_elements(By.TAG_NAME, \"img\")\n",
    "\n",
    "            img_srcs = [elem.get_attribute(\"src\") for elem in img_elements]\n",
    "\n",
    "            driver.quit()\n",
    "\n",
    "            image_files = []\n",
    "            i = 1\n",
    "            for img_url in img_srcs:\n",
    "                response = requests.get(img_url)\n",
    "                if response.status_code == 200:\n",
    "                    image_name = f\"{title}_image_{i}.jpg\"\n",
    "                    with open(os.path.join(images_folder, image_name), \"wb\") as image:\n",
    "                        image_download = response.content\n",
    "                        image.write(image_download)\n",
    "                    pil_image = Image.open(os.path.join(images_folder, image_name))\n",
    "                    image_files.append(pil_image)\n",
    "                i += 1\n",
    "            image_files[0].save(f\"{comic_series_folder}/{title}.pdf\", save_all=True, append_images=image_files[1:])\n",
    "            print(\"Successful\", title)\n"
   ]
  }
 ],
 "metadata": {
  "kernelspec": {
   "display_name": "env",
   "language": "python",
   "name": "python3"
  },
  "language_info": {
   "codemirror_mode": {
    "name": "ipython",
    "version": 3
   },
   "file_extension": ".py",
   "mimetype": "text/x-python",
   "name": "python",
   "nbconvert_exporter": "python",
   "pygments_lexer": "ipython3",
   "version": "3.10.5"
  }
 },
 "nbformat": 4,
 "nbformat_minor": 2
}
