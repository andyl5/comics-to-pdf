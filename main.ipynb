{
 "cells": [
  {
   "cell_type": "markdown",
   "metadata": {},
   "source": [
    "Import modules"
   ]
  },
  {
   "cell_type": "code",
   "execution_count": 1,
   "metadata": {},
   "outputs": [],
   "source": [
    "from datetime import datetime\n",
    "from PIL import Image\n",
    "from selenium import webdriver\n",
    "from selenium.common.exceptions import NoSuchElementException\n",
    "from selenium.webdriver.common.by import By\n",
    "from selenium.webdriver.support.select import Select\n",
    "from tenacity import retry, stop_after_attempt, wait_fixed, RetryError\n",
    "import configparser\n",
    "import logging\n",
    "import os\n",
    "import re\n",
    "import requests\n",
    "import shutil\n",
    "import sys\n",
    "import time"
   ]
  },
  {
   "cell_type": "markdown",
   "metadata": {},
   "source": [
    "Read config file"
   ]
  },
  {
   "cell_type": "code",
   "execution_count": 2,
   "metadata": {},
   "outputs": [],
   "source": [
    "config = configparser.ConfigParser()\n",
    "config.read(\"config.ini\")\n",
    "destination_path = config[\"Paths\"][\"DestinationPath\"]\n",
    "headless = config[\"App\"].getboolean(\"Headless\")\n",
    "keep_images = config[\"App\"].getboolean(\"KeepImageFolder\")\n",
    "url = config['App']['URL'].rstrip(\"/\")"
   ]
  },
  {
   "cell_type": "markdown",
   "metadata": {},
   "source": [
    "Comic book series/issues processing functions"
   ]
  },
  {
   "cell_type": "code",
   "execution_count": 3,
   "metadata": {},
   "outputs": [],
   "source": [
    "def get_series_title(driver):\n",
    "    \"\"\"Gets the comic book series name\n",
    "\n",
    "    Args:\n",
    "        Webdriver instance\n",
    "\n",
    "    Returns:\n",
    "        Name of the comic book series    \n",
    "    \"\"\"\n",
    "    try:\n",
    "        title_element = driver.find_element(By.CLASS_NAME, \"bigChar\")\n",
    "    except NoSuchElementException as e:\n",
    "        logging.error(\"Series title not found!\")\n",
    "    else:\n",
    "        series_title = title_element.text\n",
    "        series_title = make_valid_filename(series_title)\n",
    "        return series_title\n",
    "\n",
    "def get_anchor_elements(driver):\n",
    "    \"\"\"Gets all HTML a tag elements from a comic book series page. Each a tag contains the URL to its respective comic book issue.\n",
    "    \n",
    "    Args:\n",
    "        driver: Webdriver instance whose URL is the comic book series page.\n",
    "\n",
    "    Returns:\n",
    "        List of a tag elements\n",
    "    \"\"\"\n",
    "    try:\n",
    "        table_element = driver.find_element(By.CLASS_NAME, \"listing\")\n",
    "    except NoSuchElementException as e:\n",
    "        logging.error(\"No comic book issues (volumes) found!\")\n",
    "    else:\n",
    "        anchor_elements = table_element.find_elements(By.TAG_NAME, \"a\")\n",
    "        return anchor_elements\n",
    "    \n",
    "# Gets all img elements from the page\n",
    "def get_image_elements(driver):\n",
    "    \"\"\"Gets all HTML img tag elements from a comic book issue page.\n",
    "\n",
    "    Args:\n",
    "        driver: Webdriver instance whose URL is the comic book issue page.\n",
    "\n",
    "    Returns:\n",
    "        List of img tag elements\n",
    "    \"\"\"\n",
    "    try:\n",
    "        select_element_page = driver.find_element(By.ID, \"selectReadType\")\n",
    "    except NoSuchElementException as e:\n",
    "        logging.error(\"Cannot access comic book issue page.\")\n",
    "    else:\n",
    "        select = Select(select_element_page)\n",
    "        select.select_by_value(\"1\")\n",
    "        div_image = driver.find_element(By.ID, \"divImage\")\n",
    "        img_elements = div_image.find_elements(By.TAG_NAME, \"img\")\n",
    "        return img_elements\n",
    "\n",
    "@retry(stop=stop_after_attempt(10), wait=wait_fixed(1))\n",
    "def get_image_from_url(img_url):\n",
    "    \"\"\"Gets response object from the URL\n",
    "\n",
    "    Args:\n",
    "        img_url: Image URL\n",
    "\n",
    "    Returns:\n",
    "        Response object\n",
    "    \"\"\"\n",
    "    return requests.get(img_url)\n",
    "\n",
    "def download_image(img_url, i):\n",
    "    \"\"\"Downloads an image as a .jpg file\n",
    "\n",
    "    Args:\n",
    "        img_url: URL to image file\n",
    "        i: Index of the image from a list of images\n",
    "\n",
    "    Returns:\n",
    "        Image object of the downloaded image file\n",
    "    \"\"\"\n",
    "    try:\n",
    "        response = get_image_from_url(img_url)\n",
    "    except:\n",
    "        logging.error(f\"Unsuccessful download of image {i}: {img_url}\")\n",
    "        pil_image = Image.open(\"no-image-placeholder.jpg\")\n",
    "    else:\n",
    "        image_name = f\"image_{i}.jpg\"\n",
    "        with open(os.path.join(images_folder, image_name), \"wb\") as image:\n",
    "            image_download = response.content\n",
    "            image.write(image_download)\n",
    "        pil_image = Image.open(os.path.join(images_folder, image_name))\n",
    "    finally:\n",
    "        return pil_image\n",
    "\n",
    "def get_all_image_files(img_srcs):\n",
    "    \"\"\"Gets a list of Image objects for future processing\n",
    "\n",
    "    Args:\n",
    "        img_srcs: List of image URLs\n",
    "\n",
    "    Returns:\n",
    "        List of Image objects\n",
    "    \"\"\"\n",
    "    i = 1\n",
    "    image_files = []\n",
    "    for img_url in img_srcs:\n",
    "        image_file = download_image(img_url, i)\n",
    "        image_files.append(image_file)\n",
    "        i += 1\n",
    "    return image_files"
   ]
  },
  {
   "cell_type": "markdown",
   "metadata": {},
   "source": [
    "CAPTCHA checking/resolving functions"
   ]
  },
  {
   "cell_type": "code",
   "execution_count": 4,
   "metadata": {},
   "outputs": [],
   "source": [
    "def is_captcha_page(driver):\n",
    "    \"\"\"Checks if the browser was redirected to a CAPTCHA page\n",
    "\n",
    "    Args:\n",
    "        driver: Webdriver instance\n",
    "\n",
    "    Returns:\n",
    "        Boolean of if the current page is a CAPTCHA page\n",
    "    \"\"\"\n",
    "    try:\n",
    "        captcha_form = driver.find_element(By.ID, \"formVerify\")\n",
    "    except:\n",
    "        print(\"No CAPTCHA on this page\")\n",
    "        return False\n",
    "    else:\n",
    "        print(\"CAPTCHA found on this page\")\n",
    "        print(f\"CAPTCHA URL: {driver.current_url}\")\n",
    "        logging.warning(\"CAPTCHA found on this page\")\n",
    "        logging.warning(f\"CAPTCHA URL: {driver.current_url}\")\n",
    "        return True\n",
    "\n",
    "@retry(stop=stop_after_attempt(5),)\n",
    "def solve_captcha(captcha_url):\n",
    "    \"\"\"Allows the user to solve the CAPTCHA\n",
    "\n",
    "    Args:\n",
    "        captcha_url: URL of the CAPTCHA page    \n",
    "    \"\"\"\n",
    "    captcha_driver = initialize_driver(False)\n",
    "    print(\"Starting captcha driver\")\n",
    "    try:\n",
    "        captcha_driver.get(captcha_url)\n",
    "        logging.info(\"60 seconds to complete the CAPTCHA\")\n",
    "        print(\"60 seconds to complete CAPTCHA\")\n",
    "        time.sleep(60)\n",
    "        if is_captcha_page(captcha_driver):\n",
    "            logging.warning(\"CAPTCHA not complete\")\n",
    "            raise Exception(\"CAPTCHA not complete\")\n",
    "        else:\n",
    "            print(\"No CAPTCHA or it's solved\")\n",
    "            logging.info(\"No CAPTCHA or it's solved\")\n",
    "    finally:\n",
    "        print(\"Closing captcha driver\")\n",
    "        captcha_driver.quit()\n",
    "\n",
    "def handles_captcha(driver):\n",
    "    \"\"\"Handles if the driver's URL is or isn't a CAPTCHA page\n",
    "    \n",
    "    Args:\n",
    "        driver: Webdriver instance\n",
    "    \"\"\"\n",
    "    if is_captcha_page(driver):\n",
    "        captcha_url = driver.current_url\n",
    "        try:\n",
    "            solve_captcha(captcha_url)\n",
    "        except RetryError:\n",
    "            print(\"CAPTCHA timeout.\")\n",
    "            logging.error(\"CAPTCHA timeout! Time limit exceeded.\")\n",
    "            logging.critical(\"Program forcefully exited! Rerun the program again.\")\n",
    "            sys.exit()\n",
    "    else:\n",
    "        print(\"No more CAPTCHA or there isn't one.\")"
   ]
  },
  {
   "cell_type": "markdown",
   "metadata": {},
   "source": [
    "Webdriver functions"
   ]
  },
  {
   "cell_type": "code",
   "execution_count": 5,
   "metadata": {},
   "outputs": [],
   "source": [
    "def initialize_driver(headless=headless):\n",
    "    \"\"\"Creates an instance of a Webdriver\n",
    "\n",
    "    Args:\n",
    "        headless: Controls whether the browser will be headful or headless\n",
    "\n",
    "    Returns:\n",
    "        Instance of a headful/headless Webdriver\n",
    "    \"\"\"\n",
    "    # options = webdriver.FirefoxOptions()\n",
    "    options = webdriver.ChromeOptions()\n",
    "    if headless == True:\n",
    "        options.add_argument(\"-headless\")\n",
    "    # driver = webdriver.Firefox(options=options)\n",
    "    driver = webdriver.Chrome(options=options)\n",
    "    return driver"
   ]
  },
  {
   "cell_type": "markdown",
   "metadata": {},
   "source": [
    "Utility functions"
   ]
  },
  {
   "cell_type": "code",
   "execution_count": 6,
   "metadata": {},
   "outputs": [],
   "source": [
    "def make_valid_filename(filename):\n",
    "    \"\"\"Converts a string to a Windows-valid filename\n",
    "\n",
    "    Args:\n",
    "        filename: Filename we want to convert\n",
    "\n",
    "    Returns:\n",
    "        Windows-valid filename\n",
    "    \n",
    "    \"\"\"\n",
    "    pattern = r'[<>:\"\\/|?*]'\n",
    "    # Use re.sub() to replace all occurrences of the special characters with an empty string\n",
    "    filename = re.sub(pattern, '', filename)\n",
    "    return filename"
   ]
  },
  {
   "cell_type": "markdown",
   "metadata": {},
   "source": [
    "Initialize logging"
   ]
  },
  {
   "cell_type": "code",
   "execution_count": 7,
   "metadata": {},
   "outputs": [
    {
     "name": "stdout",
     "output_type": "stream",
     "text": [
      "Log file does not exist.\n"
     ]
    }
   ],
   "source": [
    "if os.path.exists(\"./logfile.log\"):\n",
    "    os.remove(\"./logfile.log\")\n",
    "    print(\"Log file deleted\")\n",
    "else:\n",
    "    print(\"Log file does not exist.\")\n",
    "\n",
    "logger = logging.getLogger(__name__)\n",
    "current_datetime = datetime.now().strftime('%Y_%m_%d_%H_%M_%S')\n",
    "logging.basicConfig(filename=\"logfile.log\", encoding='utf-8', \n",
    "                    level=logging.DEBUG, format='%(asctime)s - %(levelname)s - %(message)s')\n",
    "\n",
    "# Ignores WARNING and lower priority\n",
    "logging.getLogger('selenium').setLevel(logging.WARNING)\n",
    "logging.getLogger('selenium.webdriver').setLevel(logging.WARNING)\n",
    "logging.getLogger('selenium.webdriver.common').setLevel(logging.WARNING)\n",
    "logging.getLogger('requests').setLevel(logging.WARNING)\n",
    "logging.getLogger('urllib3').setLevel(logging.WARNING)\n",
    "logging.getLogger('PIL').setLevel(logging.WARNING)\n",
    "\n",
    "logging.info(f\"URL: {url}\")"
   ]
  },
  {
   "cell_type": "markdown",
   "metadata": {},
   "source": [
    "Process comic book series page"
   ]
  },
  {
   "cell_type": "code",
   "execution_count": 8,
   "metadata": {},
   "outputs": [
    {
     "name": "stdout",
     "output_type": "stream",
     "text": [
      "No CAPTCHA on this page\n",
      "No more CAPTCHA or there isn't one.\n",
      "Main driver URL: https://readcomiconline.li/Comic/X-Men-Milestones-Dark-Phoenix-Saga\n",
      "None\n",
      "No CAPTCHA on this page\n",
      "No more CAPTCHA or there isn't one.\n"
     ]
    },
    {
     "ename": "TypeError",
     "evalue": "'NoneType' object is not iterable",
     "output_type": "error",
     "traceback": [
      "\u001b[1;31m---------------------------------------------------------------------------\u001b[0m",
      "\u001b[1;31mTypeError\u001b[0m                                 Traceback (most recent call last)",
      "Cell \u001b[1;32mIn[8], line 24\u001b[0m\n\u001b[0;32m     22\u001b[0m     \u001b[38;5;28mprint\u001b[39m(e)\n\u001b[0;32m     23\u001b[0m \u001b[38;5;28;01melse\u001b[39;00m:\n\u001b[1;32m---> 24\u001b[0m     issues \u001b[38;5;241m=\u001b[39m \u001b[43m[\u001b[49m\u001b[43m{\u001b[49m\u001b[43melem\u001b[49m\u001b[38;5;241;43m.\u001b[39;49m\u001b[43mtext\u001b[49m\u001b[43m:\u001b[49m\u001b[43m \u001b[49m\u001b[43melem\u001b[49m\u001b[38;5;241;43m.\u001b[39;49m\u001b[43mget_attribute\u001b[49m\u001b[43m(\u001b[49m\u001b[38;5;124;43m\"\u001b[39;49m\u001b[38;5;124;43mhref\u001b[39;49m\u001b[38;5;124;43m\"\u001b[39;49m\u001b[43m)\u001b[49m\u001b[43m}\u001b[49m\u001b[43m \u001b[49m\u001b[38;5;28;43;01mfor\u001b[39;49;00m\u001b[43m \u001b[49m\u001b[43melem\u001b[49m\u001b[43m \u001b[49m\u001b[38;5;129;43;01min\u001b[39;49;00m\u001b[43m \u001b[49m\u001b[43manchor_elements\u001b[49m\u001b[43m]\u001b[49m\n\u001b[0;32m     25\u001b[0m     issues\u001b[38;5;241m.\u001b[39mreverse()\n\u001b[0;32m     26\u001b[0m     logging\u001b[38;5;241m.\u001b[39minfo(\u001b[38;5;124mf\u001b[39m\u001b[38;5;124m\"\u001b[39m\u001b[38;5;124mFound \u001b[39m\u001b[38;5;132;01m{\u001b[39;00m\u001b[38;5;28mlen\u001b[39m(issues)\u001b[38;5;132;01m}\u001b[39;00m\u001b[38;5;124m issues total.\u001b[39m\u001b[38;5;124m\"\u001b[39m)\n",
      "\u001b[1;31mTypeError\u001b[0m: 'NoneType' object is not iterable"
     ]
    }
   ],
   "source": [
    "driver = initialize_driver()\n",
    "driver.get(url)\n",
    "# print(f\"Outside driver: {driver}\")\n",
    "\n",
    "# Get the comic book series title\n",
    "handles_captcha(driver)\n",
    "# Refreshes the browser after resolving CAPTCHA (if needed)\n",
    "driver.get(url)\n",
    "print(f\"Main driver URL: {driver.current_url}\")\n",
    "try:\n",
    "    comic_series = get_series_title(driver)\n",
    "    logging.info(f\"Comic Series: '{comic_series}'\")\n",
    "except Exception as e:\n",
    "    print(e)\n",
    "print(comic_series)\n",
    "\n",
    "# Get all comic book issues URLs in the series\n",
    "handles_captcha(driver)\n",
    "try:\n",
    "    anchor_elements = get_anchor_elements(driver)\n",
    "except Exception as e:\n",
    "    print(e)\n",
    "else:\n",
    "    issues = [{elem.text: elem.get_attribute(\"href\")} for elem in anchor_elements]\n",
    "    issues.reverse()\n",
    "    logging.info(f\"Found {len(issues)} issues total.\")\n",
    "driver.quit()"
   ]
  },
  {
   "cell_type": "markdown",
   "metadata": {},
   "source": [
    "Create local comic book series folder"
   ]
  },
  {
   "cell_type": "code",
   "execution_count": null,
   "metadata": {},
   "outputs": [],
   "source": [
    "comic_series_folder = f\"{comic_series}\"\n",
    "try:\n",
    "    os.makedirs(comic_series_folder)\n",
    "    logging.info(f\"Created {comic_series_folder}.\")\n",
    "    print(f\"Created {comic_series_folder}.\")\n",
    "    comic_series_path = os.path.join(destination_path, comic_series_folder)\n",
    "except OSError as e:\n",
    "    comic_series_path = comic_series_folder\n",
    "    logging.warning(f\"{comic_series_folder} already exists.\")"
   ]
  },
  {
   "cell_type": "markdown",
   "metadata": {},
   "source": [
    "Process each comic book issue"
   ]
  },
  {
   "cell_type": "code",
   "execution_count": null,
   "metadata": {},
   "outputs": [],
   "source": [
    "for issue in issues:\n",
    "    for title, url in issue.items():\n",
    "        title = make_valid_filename(title)\n",
    "        \n",
    "        # If the {issue}.pdf exists, skip it\n",
    "        if os.path.exists(f\"{comic_series_folder}/{title}.pdf\"):\n",
    "            logging.info(f\"'{title}.pdf' already exists.\")\n",
    "        # Else, create it\n",
    "        else:\n",
    "            issue_folder = os.path.join(comic_series_path, title)\n",
    "            images_folder = os.path.join(issue_folder, \"images\")\n",
    "            try:\n",
    "                os.makedirs(images_folder)\n",
    "                logging.info(f\"Created '{issue_folder}'.\")\n",
    "            except OSError as e:\n",
    "                logging.warning(f\"'{issue_folder}' already exists.\")\n",
    "\n",
    "            print(\"Trying\", title)\n",
    "            logging.info(f\"Working on '{title}'\")\n",
    "\n",
    "            driver = initialize_driver()\n",
    "            driver.get(url)\n",
    "\n",
    "            handles_captcha(driver)\n",
    "            driver.get(url)\n",
    "            try:\n",
    "                img_elements = get_image_elements(driver)\n",
    "            except Exception as e:\n",
    "                print(e)\n",
    "            else:\n",
    "                img_srcs = [elem.get_attribute(\"src\") for elem in img_elements]\n",
    "                print(\"Images found:\", len(img_srcs))\n",
    "            driver.quit()\n",
    "\n",
    "            image_files = get_all_image_files(img_srcs)\n",
    "\n",
    "            image_files[0].save(f\"{comic_series_folder}/{title}.pdf\", save_all=True, append_images=image_files[1:])\n",
    "            logging.info(f\"Created '{title}.pdf'\")\n",
    "            \n",
    "            if not keep_images:\n",
    "                try:\n",
    "                    shutil.rmtree(issue_folder)\n",
    "                    print(f\"Folder '{issue_folder}' successfully deleted.\")\n",
    "                    # logging.info(f\"'{issue_folder}' deleted.\")\n",
    "\n",
    "                except OSError as e:\n",
    "                    print(f\"Folder '{issue_folder}' already deleted.\")\n",
    "                    # logging.warning(f\"'{issue_folder}' already deleted.\")\n",
    "\n",
    "            print(\"Finished\", title)"
   ]
  },
  {
   "cell_type": "markdown",
   "metadata": {},
   "source": [
    "Gracefully close application logging"
   ]
  },
  {
   "cell_type": "code",
   "execution_count": null,
   "metadata": {},
   "outputs": [],
   "source": [
    "logging.info(f\"Completed Series: '{comic_series}'\\n\")\n",
    "logging.shutdown()\n",
    "os.rename(\"logfile.log\", comic_series_path+\"/\"+current_datetime+\".log\")"
   ]
  }
 ],
 "metadata": {
  "kernelspec": {
   "display_name": ".venv",
   "language": "python",
   "name": "python3"
  },
  "language_info": {
   "codemirror_mode": {
    "name": "ipython",
    "version": 3
   },
   "file_extension": ".py",
   "mimetype": "text/x-python",
   "name": "python",
   "nbconvert_exporter": "python",
   "pygments_lexer": "ipython3",
   "version": "3.12.2"
  }
 },
 "nbformat": 4,
 "nbformat_minor": 2
}
